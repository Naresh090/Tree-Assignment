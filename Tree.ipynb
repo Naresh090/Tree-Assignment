{
 "cells": [
  {
   "cell_type": "markdown",
   "id": "5390f4a6",
   "metadata": {},
   "source": [
    "# 1.Binary Tree"
   ]
  },
  {
   "cell_type": "code",
   "execution_count": 2,
   "id": "91b625c9",
   "metadata": {},
   "outputs": [
    {
     "name": "stdout",
     "output_type": "stream",
     "text": [
      "Inorder Traversal: [1, 3, 5, 7, 10]\n",
      "Searching for 5: True\n",
      "Searching for 12: False\n"
     ]
    }
   ],
   "source": [
    "class Node:\n",
    "    def __init__(self, key):\n",
    "        self.left = None\n",
    "        self.right = None\n",
    "        self.val = key\n",
    "\n",
    "class BinaryTree:\n",
    "    def __init__(self, root):\n",
    "        self.root = Node(root)\n",
    "\n",
    "    def insert(self, key):\n",
    "        self._insert_recursively(self.root, key)\n",
    "\n",
    "    def _insert_recursively(self, current_node, key):\n",
    "        if current_node is None:\n",
    "            return Node(key)\n",
    "        if key < current_node.val:\n",
    "            current_node.left = self._insert_recursively(current_node.left, key)\n",
    "        else:\n",
    "            current_node.right = self._insert_recursively(current_node.right, key)\n",
    "        return current_node\n",
    "\n",
    "    def search(self, key):\n",
    "        return self._search_recursively(self.root, key)\n",
    "\n",
    "    def _search_recursively(self, current_node, key):\n",
    "        if current_node is None or current_node.val == key:\n",
    "            return current_node\n",
    "        if key < current_node.val:\n",
    "            return self._search_recursively(current_node.left, key)\n",
    "        return self._search_recursively(current_node.right, key)\n",
    "\n",
    "    def inorder_traversal(self):\n",
    "        result = []\n",
    "        self._inorder_traversal_recursively(self.root, result)\n",
    "        return result\n",
    "\n",
    "    def _inorder_traversal_recursively(self, current_node, result):\n",
    "        if current_node:\n",
    "            self._inorder_traversal_recursively(current_node.left, result)\n",
    "            result.append(current_node.val)\n",
    "            self._inorder_traversal_recursively(current_node.right, result)\n",
    "\n",
    "if __name__ == \"__main__\":\n",
    "    tree = BinaryTree(1)\n",
    "    tree.insert(5)\n",
    "    tree.insert(10)\n",
    "    tree.insert(3)\n",
    "    tree.insert(7)\n",
    "    \n",
    "    print(\"Inorder Traversal:\", tree.inorder_traversal())\n",
    "    print(\"Searching for 5:\", tree.search(5) is not None)\n",
    "    print(\"Searching for 12:\", tree.search(12) is not None)"
   ]
  },
  {
   "cell_type": "markdown",
   "id": "b43e92f9",
   "metadata": {},
   "source": [
    "# 2. Height of a given tree"
   ]
  },
  {
   "cell_type": "code",
   "execution_count": 3,
   "id": "b077ea40",
   "metadata": {},
   "outputs": [
    {
     "name": "stdout",
     "output_type": "stream",
     "text": [
      "Height of the tree: 3\n"
     ]
    }
   ],
   "source": [
    "class TreeNode:\n",
    "    def __init__(self, value):\n",
    "        self.value = value\n",
    "        self.left = None\n",
    "        self.right = None\n",
    "\n",
    "def height_tree(node):\n",
    "    if node is None:\n",
    "        return 0\n",
    "    else:\n",
    "        left_height = height_tree(node.left)\n",
    "        right_height = height_tree(node.right)\n",
    "        return max(left_height, right_height) + 1\n",
    "\n",
    "\n",
    "root = TreeNode(1)\n",
    "root.left = TreeNode(2)\n",
    "root.right = TreeNode(3)\n",
    "root.left.left = TreeNode(4)\n",
    "root.left.right = TreeNode(5)\n",
    "\n",
    "height = height_tree(root)\n",
    "print(\"Height of the tree:\", height)\n"
   ]
  },
  {
   "cell_type": "markdown",
   "id": "4a5eb68f",
   "metadata": {},
   "source": [
    "# 3.Perform Pre-order, Post-order, In-order traversal"
   ]
  },
  {
   "cell_type": "code",
   "execution_count": 5,
   "id": "00042cf2",
   "metadata": {},
   "outputs": [
    {
     "name": "stdout",
     "output_type": "stream",
     "text": [
      "Pre-order traversal:\n",
      "1 2 4 5 3 \n",
      "In-order traversal:\n",
      "4 2 5 1 3 \n",
      "Post-order traversal:\n",
      "4 5 2 3 1 "
     ]
    }
   ],
   "source": [
    "class TreeNode:\n",
    "    def __init__(self, value):\n",
    "        self.value = value\n",
    "        self.left = None\n",
    "        self.right = None\n",
    "\n",
    "# Pre-order traversal: Root -> Left -> Right\n",
    "def preorder_traversal(node):\n",
    "    if node:\n",
    "        print(node.value, end=\" \")\n",
    "        preorder_traversal(node.left)\n",
    "        preorder_traversal(node.right)\n",
    "\n",
    "# In-order traversal: Left -> Root -> Right\n",
    "def inorder_traversal(node):\n",
    "    if node:\n",
    "        inorder_traversal(node.left)\n",
    "        print(node.value, end=\" \")\n",
    "        inorder_traversal(node.right)\n",
    "\n",
    "# Post-order traversal: Left -> Right -> Root\n",
    "def postorder_traversal(node):\n",
    "    if node:\n",
    "        postorder_traversal(node.left)\n",
    "        postorder_traversal(node.right)\n",
    "        print(node.value, end=\" \")\n",
    "\n",
    "# Create a sample binary tree\n",
    "root = TreeNode(1)\n",
    "root.left = TreeNode(2)\n",
    "root.right = TreeNode(3)\n",
    "root.left.left = TreeNode(4)\n",
    "root.left.right = TreeNode(5)\n",
    "\n",
    "print(\"Pre-order traversal:\")\n",
    "preorder_traversal(root)\n",
    "\n",
    "print(\"\\nIn-order traversal:\")\n",
    "inorder_traversal(root)\n",
    "\n",
    "print(\"\\nPost-order traversal:\")\n",
    "postorder_traversal(root)\n"
   ]
  },
  {
   "cell_type": "markdown",
   "id": "9f086593",
   "metadata": {},
   "source": [
    "# 4.Function to print all the leaves in a given binary tree"
   ]
  },
  {
   "cell_type": "code",
   "execution_count": 6,
   "id": "2be1a47d",
   "metadata": {},
   "outputs": [
    {
     "name": "stdout",
     "output_type": "stream",
     "text": [
      "Leaf nodes in the binary tree:\n",
      "4\n",
      "5\n",
      "6\n",
      "7\n"
     ]
    }
   ],
   "source": [
    "class TreeNode:\n",
    "    def __init__(self, value):\n",
    "        self.value = value\n",
    "        self.left = None\n",
    "        self.right = None\n",
    "\n",
    "# Function to print all leaf nodes in the binary tree\n",
    "def print_leaves(node):\n",
    "    if node is not None:\n",
    "        if node.left is None and node.right is None:\n",
    "            print(node.value)  # Print the leaf node\n",
    "        else:\n",
    "            print_leaves(node.left)\n",
    "            print_leaves(node.right)\n",
    "\n",
    "# Create a sample binary tree\n",
    "root = TreeNode(1)\n",
    "root.left = TreeNode(2)\n",
    "root.right = TreeNode(3)\n",
    "root.left.left = TreeNode(4)\n",
    "root.left.right = TreeNode(5)\n",
    "root.right.left = TreeNode(6)\n",
    "root.right.right = TreeNode(7)\n",
    "\n",
    "print(\"Leaf nodes in the binary tree:\")\n",
    "print_leaves(root)\n"
   ]
  },
  {
   "cell_type": "markdown",
   "id": "0ff7f9c5",
   "metadata": {},
   "source": [
    "# 5.Implement BFS (Breath First Search) and DFS (Depth First Search)"
   ]
  },
  {
   "cell_type": "code",
   "execution_count": 8,
   "id": "c0510e49",
   "metadata": {},
   "outputs": [
    {
     "name": "stdout",
     "output_type": "stream",
     "text": [
      "Breadth-First Search (BFS):\n",
      "A B C D E F \n",
      "Depth-First Search (DFS):\n",
      "A B D E F C "
     ]
    }
   ],
   "source": [
    "from collections import deque\n",
    "\n",
    "# Define a graph using an adjacency list\n",
    "graph = {\n",
    "    'A': ['B', 'C'],\n",
    "    'B': ['A', 'D', 'E'],\n",
    "    'C': ['A', 'F'],\n",
    "    'D': ['B'],\n",
    "    'E': ['B', 'F'],\n",
    "    'F': ['C', 'E']\n",
    "}\n",
    "\n",
    "# Breadth-First Search (BFS)\n",
    "def bfs(graph, start):\n",
    "    visited = set()\n",
    "    queue = deque()\n",
    "\n",
    "    queue.append(start)\n",
    "    visited.add(start)\n",
    "\n",
    "    while queue:\n",
    "        node = queue.popleft()\n",
    "        print(node, end=\" \")\n",
    "\n",
    "        for neighbor in graph[node]:\n",
    "            if neighbor not in visited:\n",
    "                queue.append(neighbor)\n",
    "                visited.add(neighbor)\n",
    "\n",
    "print(\"Breadth-First Search (BFS):\")\n",
    "bfs(graph, 'A')\n",
    "print()  # Print a newline to separate BFS and DFS results\n",
    "\n",
    "# Depth-First Search (DFS)\n",
    "def dfs(graph, node, visited):\n",
    "    if node not in visited:\n",
    "        print(node, end=\" \")\n",
    "        visited.add(node)\n",
    "        for neighbor in graph[node]:\n",
    "            dfs(graph, neighbor, visited)\n",
    "\n",
    "print(\"Depth-First Search (DFS):\")\n",
    "visited = set()\n",
    "dfs(graph, 'A', visited)\n"
   ]
  },
  {
   "cell_type": "markdown",
   "id": "8941bb0c",
   "metadata": {},
   "source": [
    "# 6.Find sum of all left leaves in a given Binary Tree."
   ]
  },
  {
   "cell_type": "code",
   "execution_count": 9,
   "id": "c80c598d",
   "metadata": {},
   "outputs": [
    {
     "name": "stdout",
     "output_type": "stream",
     "text": [
      "Sum of left leaves: 10\n"
     ]
    }
   ],
   "source": [
    "class TreeNode:\n",
    "    def __init__(self, value):\n",
    "        self.value = value\n",
    "        self.left = None\n",
    "        self.right = None\n",
    "\n",
    "# Function to find the sum of left leaves in a binary tree\n",
    "def sum_of_left_leaves(root):\n",
    "    if root is None:\n",
    "        return 0\n",
    "\n",
    "    # Check if the left child is a leaf node\n",
    "    if root.left and root.left.left is None and root.left.right is None:\n",
    "        left_leaf_sum = root.left.value\n",
    "    else:\n",
    "        left_leaf_sum = 0\n",
    "\n",
    "    # Recursively calculate the sum for the entire tree\n",
    "    return left_leaf_sum + sum_of_left_leaves(root.left) + sum_of_left_leaves(root.right)\n",
    "\n",
    "# Create a sample binary tree\n",
    "root = TreeNode(1)\n",
    "root.left = TreeNode(2)\n",
    "root.right = TreeNode(3)\n",
    "root.left.left = TreeNode(4)\n",
    "root.left.right = TreeNode(5)\n",
    "root.right.left = TreeNode(6)\n",
    "root.right.right = TreeNode(7)\n",
    "\n",
    "# Calculate and print the sum of left leaves\n",
    "left_leaves_sum = sum_of_left_leaves(root)\n",
    "print(\"Sum of left leaves:\", left_leaves_sum)\n"
   ]
  },
  {
   "cell_type": "markdown",
   "id": "c62b5761",
   "metadata": {},
   "source": [
    "# 7.Find sum of all nodes of the given perfect binary tree"
   ]
  },
  {
   "cell_type": "code",
   "execution_count": 10,
   "id": "02db7545",
   "metadata": {},
   "outputs": [
    {
     "name": "stdout",
     "output_type": "stream",
     "text": [
      "Sum of all nodes in the perfect binary tree: 15\n"
     ]
    }
   ],
   "source": [
    "class TreeNode:\n",
    "    def __init__(self, value):\n",
    "        self.value = value\n",
    "        self.left = None\n",
    "        self.right = None\n",
    "\n",
    "# Function to find the sum of all nodes in a perfect binary tree based on its height\n",
    "def sum_of_perfect_binary_tree(height):\n",
    "    if height < 0:\n",
    "        return 0\n",
    "    else:\n",
    "        return 2 ** (height + 1) - 1\n",
    "\n",
    "# Example usage:\n",
    "height = 3  # Replace with the height of your perfect binary tree\n",
    "total_sum = sum_of_perfect_binary_tree(height)\n",
    "print(\"Sum of all nodes in the perfect binary tree:\", total_sum)\n"
   ]
  },
  {
   "cell_type": "markdown",
   "id": "eb47fd47",
   "metadata": {},
   "source": [
    "# 8.Count subtress that sum up to a given value x in a binary tree"
   ]
  },
  {
   "cell_type": "code",
   "execution_count": 11,
   "id": "064dc4e1",
   "metadata": {},
   "outputs": [
    {
     "name": "stdout",
     "output_type": "stream",
     "text": [
      "Number of subtrees with sum 8 is: 0\n"
     ]
    }
   ],
   "source": [
    "class TreeNode:\n",
    "    def __init__(self, value):\n",
    "        self.value = value\n",
    "        self.left = None\n",
    "        self.right = None\n",
    "\n",
    "# Helper function to count subtrees with a given sum\n",
    "def count_subtrees_with_sum(node, x, count):\n",
    "    if node is None:\n",
    "        return 0\n",
    "\n",
    "    # Recursively calculate sums in left and right subtrees\n",
    "    left_sum = count_subtrees_with_sum(node.left, x, count)\n",
    "    right_sum = count_subtrees_with_sum(node.right, x, count)\n",
    "\n",
    "    # Check if the current subtree (including the current node) sums up to x\n",
    "    subtree_sum = left_sum + right_sum + node.value\n",
    "    if subtree_sum == x:\n",
    "        count[0] += 1\n",
    "\n",
    "    return subtree_sum\n",
    "\n",
    "# Function to count subtrees with a given sum in a binary tree\n",
    "def count_subtrees(root, x):\n",
    "    count = [0]  # Using a list to store the count so it can be updated within the recursive function\n",
    "    count_subtrees_with_sum(root, x, count)\n",
    "    return count[0]\n",
    "\n",
    "# Create a sample binary tree\n",
    "root = TreeNode(5)\n",
    "root.left = TreeNode(3)\n",
    "root.right = TreeNode(1)\n",
    "root.left.left = TreeNode(2)\n",
    "root.left.right = TreeNode(4)\n",
    "root.right.left = TreeNode(6)\n",
    "root.right.right = TreeNode(7)\n",
    "\n",
    "# Example usage:\n",
    "target_sum = 8\n",
    "result = count_subtrees(root, target_sum)\n",
    "print(\"Number of subtrees with sum\", target_sum, \"is:\", result)from collections import deque\n",
    "\n",
    "class TreeNode:\n",
    "    def __init__(self, value):\n",
    "        self.value = value\n",
    "        self.left = None\n",
    "        self.right = None\n",
    "\n",
    "# Function to find the maximum level sum in a binary tree\n",
    "def max_level_sum(root):\n",
    "    if not root:\n",
    "        return 0\n",
    "    \n",
    "    max_sum = float('-inf')  # Initialize max_sum with negative infinity\n",
    "    level_max_sum = 0  # Initialize the sum for the current level\n",
    "    \n",
    "    queue = deque()\n",
    "    queue.append(root)\n",
    "    \n",
    "    while queue:\n",
    "        level_size = len(queue)\n",
    "        level_sum = 0\n",
    "        \n",
    "        for _ in range(level_size):\n",
    "            node = queue.popleft()\n",
    "            level_sum += node.value\n",
    "            \n",
    "            if node.left:\n",
    "                queue.append(node.left)\n",
    "            if node.right:\n",
    "                queue.append(node.right)\n",
    "        \n",
    "        # Update max_sum if the current level's sum is greater\n",
    "        if level_sum > max_sum:\n",
    "            max_sum = level_sum\n",
    "            level_max_sum = max_sum\n",
    "    \n",
    "    return level_max_sum\n",
    "\n",
    "# Example usage:\n",
    "root = TreeNode(1)\n",
    "root.left = TreeNode(2)\n",
    "root.right = TreeNode(3)\n",
    "root.left.left = TreeNode(4)\n",
    "root.left.right = TreeNode(5)\n",
    "root.right.right = TreeNode(8)\n",
    "root.right.right.left = TreeNode(6)\n",
    "root.right.right.right = TreeNode(7)\n",
    "\n",
    "result = max_level_sum(root)\n",
    "print(\"Maximum level sum in the binary tree:\", result)\n",
    "\n"
   ]
  },
  {
   "cell_type": "markdown",
   "id": "51a324aa",
   "metadata": {},
   "source": [
    "# 9.Find maximum level sum in Binary Tree"
   ]
  },
  {
   "cell_type": "code",
   "execution_count": 12,
   "id": "a391b561",
   "metadata": {},
   "outputs": [
    {
     "name": "stdout",
     "output_type": "stream",
     "text": [
      "Maximum level sum in the binary tree: 17\n"
     ]
    }
   ],
   "source": [
    "from collections import deque\n",
    "\n",
    "class TreeNode:\n",
    "    def __init__(self, value):\n",
    "        self.value = value\n",
    "        self.left = None\n",
    "        self.right = None\n",
    "\n",
    "# Function to find the maximum level sum in a binary tree\n",
    "def max_level_sum(root):\n",
    "    if not root:\n",
    "        return 0\n",
    "    \n",
    "    max_sum = float('-inf')  # Initialize max_sum with negative infinity\n",
    "    level_max_sum = 0  # Initialize the sum for the current level\n",
    "    \n",
    "    queue = deque()\n",
    "    queue.append(root)\n",
    "    \n",
    "    while queue:\n",
    "        level_size = len(queue)\n",
    "        level_sum = 0\n",
    "        \n",
    "        for _ in range(level_size):\n",
    "            node = queue.popleft()\n",
    "            level_sum += node.value\n",
    "            \n",
    "            if node.left:\n",
    "                queue.append(node.left)\n",
    "            if node.right:\n",
    "                queue.append(node.right)\n",
    "        \n",
    "        # Update max_sum if the current level's sum is greater\n",
    "        if level_sum > max_sum:\n",
    "            max_sum = level_sum\n",
    "            level_max_sum = max_sum\n",
    "    \n",
    "    return level_max_sum\n",
    "\n",
    "# Example usage:\n",
    "root = TreeNode(1)\n",
    "root.left = TreeNode(2)\n",
    "root.right = TreeNode(3)\n",
    "root.left.left = TreeNode(4)\n",
    "root.left.right = TreeNode(5)\n",
    "root.right.right = TreeNode(8)\n",
    "root.right.right.left = TreeNode(6)\n",
    "root.right.right.right = TreeNode(7)\n",
    "\n",
    "result = max_level_sum(root)\n",
    "print(\"Maximum level sum in the binary tree:\", result)\n"
   ]
  },
  {
   "cell_type": "markdown",
   "id": "5e992616",
   "metadata": {},
   "source": [
    "# 10.Print the nodes at odd levels of a tree"
   ]
  },
  {
   "cell_type": "code",
   "execution_count": 13,
   "id": "aa1ecb90",
   "metadata": {},
   "outputs": [
    {
     "name": "stdout",
     "output_type": "stream",
     "text": [
      "Nodes at odd levels in the binary tree:\n",
      "1 4 5 6 7 "
     ]
    }
   ],
   "source": [
    "class TreeNode:\n",
    "    def __init__(self, value):\n",
    "        self.value = value\n",
    "        self.left = None\n",
    "        self.right = None\n",
    "\n",
    "# Function to print nodes at odd levels in a binary tree\n",
    "def print_nodes_at_odd_levels(root, level=1):\n",
    "    if root is None:\n",
    "        return\n",
    "    \n",
    "    if level % 2 == 1:\n",
    "        print(root.value, end=\" \")\n",
    "\n",
    "    # Recursively traverse the left and right subtrees\n",
    "    print_nodes_at_odd_levels(root.left, level + 1)\n",
    "    print_nodes_at_odd_levels(root.right, level + 1)\n",
    "\n",
    "# Create a sample binary tree\n",
    "root = TreeNode(1)\n",
    "root.left = TreeNode(2)\n",
    "root.right = TreeNode(3)\n",
    "root.left.left = TreeNode(4)\n",
    "root.left.right = TreeNode(5)\n",
    "root.right.left = TreeNode(6)\n",
    "root.right.right = TreeNode(7)\n",
    "\n",
    "# Example usage:\n",
    "print(\"Nodes at odd levels in the binary tree:\")\n",
    "print_nodes_at_odd_levels(root)\n"
   ]
  },
  {
   "cell_type": "code",
   "execution_count": null,
   "id": "23a3c530",
   "metadata": {},
   "outputs": [],
   "source": []
  }
 ],
 "metadata": {
  "kernelspec": {
   "display_name": "Python 3 (ipykernel)",
   "language": "python",
   "name": "python3"
  },
  "language_info": {
   "codemirror_mode": {
    "name": "ipython",
    "version": 3
   },
   "file_extension": ".py",
   "mimetype": "text/x-python",
   "name": "python",
   "nbconvert_exporter": "python",
   "pygments_lexer": "ipython3",
   "version": "3.10.9"
  }
 },
 "nbformat": 4,
 "nbformat_minor": 5
}
